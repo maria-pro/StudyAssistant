{
 "cells": [
  {
   "metadata": {
    "ExecuteTime": {
     "end_time": "2025-02-28T09:51:15.383370Z",
     "start_time": "2025-02-28T09:51:15.379817Z"
    }
   },
   "cell_type": "code",
   "source": [
    "import sys\n",
    "print(sys.version)"
   ],
   "id": "c3a82a2c9be057b6",
   "outputs": [
    {
     "name": "stdout",
     "output_type": "stream",
     "text": [
      "3.12.4 | packaged by Anaconda, Inc. | (main, Jun 18 2024, 10:07:17) [Clang 14.0.6 ]\n"
     ]
    }
   ],
   "execution_count": 35
  },
  {
   "metadata": {
    "ExecuteTime": {
     "end_time": "2025-03-01T20:02:24.948682Z",
     "start_time": "2025-03-01T20:02:24.945977Z"
    }
   },
   "cell_type": "code",
   "source": [
    "import tensorflow as tf\n",
    "print(tf.__version__)\n",
    "\n",
    "import os\n",
    "import pandas as pd\n",
    "import torch\n",
    "import numpy as np\n",
    "from tqdm import tqdm\n",
    "import random\n",
    "\n",
    "import matplotlib.pyplot as plt\n",
    "import matplotlib as mpl\n",
    "import plotly.express as px\n",
    "\n",
    "\n",
    "\n",
    "import keras_nlp\n",
    "import keras\n",
    "import tensorflow as tf\n",
    "print(keras.__version__)"
   ],
   "id": "e8f39d1774602327",
   "outputs": [
    {
     "name": "stdout",
     "output_type": "stream",
     "text": [
      "2.18.0\n",
      "3.8.0\n"
     ]
    }
   ],
   "execution_count": 44
  },
  {
   "cell_type": "code",
   "id": "initial_id",
   "metadata": {
    "collapsed": true,
    "ExecuteTime": {
     "end_time": "2025-03-01T20:36:41.909101Z",
     "start_time": "2025-03-01T20:36:41.900413Z"
    }
   },
   "source": [
    "os.environ[\"KERAS_BACKEND\"]=\"torch\"\n",
    "class CFG:\n",
    "    seed = 42  # Random seed\n",
    "    preset = \"deberta_v3_extra_small_en\" # Name of pretrained models\n",
    "    sequence_length = 512  # Input sequence length\n",
    "    epochs = 3 # Training epochs\n",
    "    batch_size = 16  # Batch size\n",
    "    scheduler = 'cosine'  # Learning rate scheduler\n",
    "    label2name = {0: 'winner_model_a', 1: 'winner_model_b', 2: 'winner_tie'}\n",
    "    name2label = {v:k for k, v in label2name.items()}\n",
    "    class_labels = list(label2name.keys())\n",
    "    class_names = list(label2name.values())\n",
    "\n",
    "keras.utils.set_random_seed(CFG.seed)\n",
    "\n",
    "#seed should cover torch, np and in-build(=random)\n",
    "def set_random_seed(seed):\n",
    "    #torch seed\n",
    "    torch.manual_seed(seed)\n",
    "    if torch.backends.mps.is_available():\n",
    "        torch.mps.manual_seed(seed)\n",
    "    if torch.cuda.is_available():\n",
    "        torch.cuda.manual_seed(seed)\n",
    "        torch.cuda.manual_seed_all(seed)\n",
    "    np.random.seed(seed)\n",
    "    random.seed(seed)\n",
    "    #tensor\n",
    "    keras.utils.set_random_seed(seed)\n",
    "\n",
    "set_random_seed(CFG.seed)\n",
    "\n",
    "torch.set_default_dtype(torch.float16)\n"
   ],
   "outputs": [],
   "execution_count": 47
  },
  {
   "metadata": {
    "ExecuteTime": {
     "end_time": "2025-02-27T06:13:05.124230Z",
     "start_time": "2025-02-27T06:12:59.216001Z"
    }
   },
   "cell_type": "code",
   "source": [
    "#download dataset using kaggle\n",
    "#!pip install kaggle\n",
    "\n",
    "#!kaggle competitions download -c llm-classification-finetuning -p /Volumes/mashenka/data/kaggle"
   ],
   "id": "e6d6a61fa45074ee",
   "outputs": [
    {
     "name": "stdout",
     "output_type": "stream",
     "text": [
      "Downloading llm-classification-finetuning.zip to /Volumes/mashenka/data/kaggle\r\n",
      "100%|██████████████████████████████████████| 57.0M/57.0M [00:04<00:00, 23.1MB/s]\r\n",
      "100%|██████████████████████████████████████| 57.0M/57.0M [00:04<00:00, 14.2MB/s]\r\n"
     ]
    }
   ],
   "execution_count": 20
  },
  {
   "metadata": {
    "ExecuteTime": {
     "end_time": "2025-02-28T09:51:08.212254Z",
     "start_time": "2025-02-28T09:51:06.773839Z"
    }
   },
   "cell_type": "code",
   "source": "df=pd.read_csv(\"/Volumes/mashenka/data/kaggle/llm-classification-finetuning/train.csv\")",
   "id": "b0eb912ad7c03a76",
   "outputs": [],
   "execution_count": 34
  },
  {
   "metadata": {
    "ExecuteTime": {
     "end_time": "2025-02-26T02:09:56.577053Z",
     "start_time": "2025-02-26T02:09:56.575012Z"
    }
   },
   "cell_type": "code",
   "source": "test=CFG()",
   "id": "b274f9e9c8d70176",
   "outputs": [],
   "execution_count": 10
  },
  {
   "metadata": {
    "ExecuteTime": {
     "end_time": "2025-02-26T02:10:15.961319Z",
     "start_time": "2025-02-26T02:10:15.959164Z"
    }
   },
   "cell_type": "code",
   "source": "print(test.name2label)",
   "id": "f1ad30adf825a38a",
   "outputs": [
    {
     "name": "stdout",
     "output_type": "stream",
     "text": [
      "{'winner_model_a': 0, 'winner_model_b': 1, 'winner_tie': 2}\n"
     ]
    }
   ],
   "execution_count": 12
  },
  {
   "metadata": {},
   "cell_type": "code",
   "outputs": [],
   "execution_count": null,
   "source": "",
   "id": "88518fb62b26ff82"
  }
 ],
 "metadata": {
  "kernelspec": {
   "display_name": "Python 3 (ipykernel)",
   "language": "python",
   "name": "python3"
  },
  "language_info": {
   "codemirror_mode": {
    "name": "ipython",
    "version": 2
   },
   "file_extension": ".py",
   "mimetype": "text/x-python",
   "name": "python",
   "nbconvert_exporter": "python",
   "pygments_lexer": "ipython2",
   "version": "2.7.6"
  }
 },
 "nbformat": 4,
 "nbformat_minor": 5
}
