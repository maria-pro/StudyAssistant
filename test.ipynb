{
 "cells": [
  {
   "metadata": {
    "ExecuteTime": {
     "end_time": "2025-02-05T23:19:16.284860Z",
     "start_time": "2025-02-05T23:19:16.278209Z"
    }
   },
   "cell_type": "code",
   "source": [
    "#sys env\n",
    "import os\n",
    "import sys\n",
    "from dotenv import load_dotenv\n",
    "\n",
    "#langchain\n",
    "import langchain\n",
    "from langchain_community.document_loaders import PyPDFLoader, PyPDFDirectoryLoader\n",
    "import warnings\n",
    "warnings.filterwarnings(\"ignore\", category=UserWarning, module=\"pypdf\")\n",
    "import pypdf\n",
    "\n",
    "\n",
    "import chromadb\n",
    "\n",
    "import pprint\n",
    "\n",
    "\n",
    "\n",
    "import tiktoken\n",
    "\n",
    "import pydantic\n",
    "import lxml\n",
    "\n",
    "import matplotlib.pyplot as plt\n",
    "\n",
    "import logging\n",
    "\n",
    "\n",
    "import zipfile\n",
    "import requests"
   ],
   "id": "2ee2c796995d2d86",
   "outputs": [],
   "execution_count": 83
  },
  {
   "metadata": {
    "ExecuteTime": {
     "end_time": "2025-02-05T03:16:19.865142Z",
     "start_time": "2025-02-05T03:16:19.306323Z"
    }
   },
   "cell_type": "code",
   "source": [
    "load_dotenv()\n",
    "GEMINI_API=os.getenv(\"GEMINI_API\")\n"
   ],
   "id": "def3266ca3794b26",
   "outputs": [],
   "execution_count": 42
  },
  {
   "metadata": {
    "ExecuteTime": {
     "end_time": "2025-02-05T00:02:39.312773Z",
     "start_time": "2025-02-05T00:02:37.238483Z"
    }
   },
   "cell_type": "code",
   "source": [
    "#get documents from zip in pdf\n",
    "\n",
    "logging.basicConfig(level=logging.INFO)\n",
    "\n",
    "data_url = \"https://storage.googleapis.com/benchmarks-artifacts/langchain-docs-benchmarking/cj.zip\"\n",
    "result = requests.get(data_url)\n",
    "filename = \"cj.zip\"\n",
    "with open(filename, \"wb\") as file:\n",
    "   file.write(result.content)\n",
    "\n",
    "with zipfile.ZipFile(filename, \"r\") as zip_ref:\n",
    "   zip_ref.extractall()"
   ],
   "id": "115acc5222e27f58",
   "outputs": [],
   "execution_count": 24
  },
  {
   "metadata": {},
   "cell_type": "markdown",
   "source": "",
   "id": "cbc84866aab7c66"
  },
  {
   "metadata": {
    "ExecuteTime": {
     "end_time": "2025-02-05T07:19:14.051564Z",
     "start_time": "2025-02-05T07:19:14.048801Z"
    }
   },
   "cell_type": "code",
   "source": "folder_pdf=\"/Volumes/mashenka/delete/cyber/slides\"",
   "id": "1dc5f522a21ddf28",
   "outputs": [],
   "execution_count": 75
  },
  {
   "metadata": {
    "ExecuteTime": {
     "end_time": "2025-02-05T07:19:16.045927Z",
     "start_time": "2025-02-05T07:19:15.702349Z"
    }
   },
   "cell_type": "code",
   "source": [
    "#load pdf functions\n",
    "#learner guide - parse as image\n",
    "#PP slides - parse pdf text only\n",
    "\n",
    "def is_valid_pdf(file_path):\n",
    "    try:\n",
    "        with open(file_path, 'rb') as f:\n",
    "            header = f.read(5)\n",
    "            return header == b'%PDF-'\n",
    "    except Exception:\n",
    "        return False\n",
    "\n",
    "\n",
    "loader=PyPDFDirectoryLoader(folder_pdf)\n",
    "slides=loader.load()\n"
   ],
   "id": "865d369129790b32",
   "outputs": [],
   "execution_count": 76
  },
  {
   "metadata": {
    "ExecuteTime": {
     "end_time": "2025-02-05T23:19:41.422215Z",
     "start_time": "2025-02-05T23:19:41.420105Z"
    }
   },
   "cell_type": "code",
   "source": [
    "print(len(slides))\n",
    "pprint.pp(slides[24].page_content)"
   ],
   "id": "ac36f8ebd3eebc84",
   "outputs": [
    {
     "name": "stdout",
     "output_type": "stream",
     "text": [
      "72\n",
      "'VU23215\\nTest concepts and procedures for cyber security\\n1\\nSession 2'\n"
     ]
    }
   ],
   "execution_count": 84
  },
  {
   "metadata": {
    "ExecuteTime": {
     "end_time": "2025-02-05T06:10:33.607490Z",
     "start_time": "2025-02-05T06:10:33.327430Z"
    }
   },
   "cell_type": "code",
   "source": [
    "file_path = \"/Volumes/mashenka/Python312/cj/cj.pdf\"\n",
    "loader = PyPDFLoader(file_path, extract_images=True)\n",
    "pages = []\n",
    "async for page in loader.alazy_load():\n",
    "    pages.append(page)\n",
    "\n",
    "\n"
   ],
   "id": "b4bfca722bae8e9f",
   "outputs": [
    {
     "name": "stdout",
     "output_type": "stream",
     "text": [
      "{'source': '/Volumes/mashenka/Python312/cj/cj.pdf', 'page': 0, 'page_label': '1'}\n"
     ]
    }
   ],
   "execution_count": 71
  },
  {
   "metadata": {
    "ExecuteTime": {
     "end_time": "2025-02-05T04:54:31.182909Z",
     "start_time": "2025-02-05T04:53:20.126247Z"
    }
   },
   "cell_type": "code",
   "source": [
    "#load pdfs\n",
    "folder_path = \"/Volumes/mashenka/Python312/cj\"\n",
    "\n",
    "loader = PyPDFDirectoryLoader(folder_path, extract_images=True)\n",
    "all_pdf=loader.lazy_load()\n",
    "\n",
    "\n",
    "def is_valid_pdf(file_path):\n",
    "    try:\n",
    "        with open(file_path, 'rb') as f:\n",
    "            header = f.read(5)\n",
    "            return header == b'%PDF-'\n",
    "    except Exception:\n",
    "        return False\n",
    "\n",
    "def load_pdfs(path: str):\n",
    "    all_pdf = []\n",
    "    for filename in os.listdir(path):\n",
    "        file_path=os.path.join(path,filename)\n",
    "        if filename.endswith(\".pdf\") and is_valid_pdf(file_path):\n",
    "            file_path = os.path.join(path, filename)\n",
    "            try:\n",
    "                #extract_images requires pip install rapidocr-onnxruntime\n",
    "                loader = PyPDFLoader(file_path, extract_images=True)\n",
    "                doc = loader.load()\n",
    "                texts = [d.page_content for d in doc]\n",
    "                all_pdf.append(texts)\n",
    "\n",
    "                #extracting images as image files\n",
    "                for page in doc:\n",
    "                    for image in doc.images:\n",
    "                        image_filename=f\"{filename}_page_{page.page_number}_image_{image[\"]}\"\n",
    "\n",
    "            except Exception as e:\n",
    "                print(f\"Failed to process file {filename}: {e}\")\n",
    "    return all_pdf\n",
    "\n",
    "pdfs=load_pdfs(folder_path)\n"
   ],
   "id": "a0a5c3823675b1a7",
   "outputs": [],
   "execution_count": 68
  },
  {
   "metadata": {},
   "cell_type": "markdown",
   "source": "## Load images and summarize images to be further used as text",
   "id": "3d04f048141de818"
  },
  {
   "metadata": {},
   "cell_type": "code",
   "outputs": [],
   "execution_count": null,
   "source": "from transformers import BLIP",
   "id": "551e6d343e34a17b"
  },
  {
   "metadata": {},
   "cell_type": "code",
   "outputs": [],
   "execution_count": null,
   "source": "",
   "id": "a06970faa980bd8e"
  }
 ],
 "metadata": {
  "kernelspec": {
   "display_name": "Python 3",
   "language": "python",
   "name": "python3"
  },
  "language_info": {
   "codemirror_mode": {
    "name": "ipython",
    "version": 2
   },
   "file_extension": ".py",
   "mimetype": "text/x-python",
   "name": "python",
   "nbconvert_exporter": "python",
   "pygments_lexer": "ipython2",
   "version": "2.7.6"
  }
 },
 "nbformat": 4,
 "nbformat_minor": 5
}
