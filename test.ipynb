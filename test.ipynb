{
 "cells": [
  {
   "metadata": {
    "ExecuteTime": {
     "end_time": "2025-02-06T05:48:02.081635Z",
     "start_time": "2025-02-06T05:48:00.608763Z"
    }
   },
   "cell_type": "code",
   "source": "!pip install langchain-community==0.3.16",
   "id": "36dddb823b3d3854",
   "outputs": [
    {
     "name": "stdout",
     "output_type": "stream",
     "text": [
      "Requirement already satisfied: langchain-community==0.3.16 in /Users/e5028514/miniconda3/lib/python3.12/site-packages (0.3.16)\r\n",
      "Requirement already satisfied: PyYAML>=5.3 in /Users/e5028514/miniconda3/lib/python3.12/site-packages (from langchain-community==0.3.16) (6.0.2)\r\n",
      "Requirement already satisfied: SQLAlchemy<3,>=1.4 in /Users/e5028514/miniconda3/lib/python3.12/site-packages (from langchain-community==0.3.16) (2.0.37)\r\n",
      "Requirement already satisfied: aiohttp<4.0.0,>=3.8.3 in /Users/e5028514/miniconda3/lib/python3.12/site-packages (from langchain-community==0.3.16) (3.11.11)\r\n",
      "Requirement already satisfied: dataclasses-json<0.7,>=0.5.7 in /Users/e5028514/miniconda3/lib/python3.12/site-packages (from langchain-community==0.3.16) (0.6.7)\r\n",
      "Requirement already satisfied: httpx-sse<0.5.0,>=0.4.0 in /Users/e5028514/miniconda3/lib/python3.12/site-packages (from langchain-community==0.3.16) (0.4.0)\r\n",
      "Requirement already satisfied: langchain<0.4.0,>=0.3.16 in /Users/e5028514/miniconda3/lib/python3.12/site-packages (from langchain-community==0.3.16) (0.3.17)\r\n",
      "Requirement already satisfied: langchain-core<0.4.0,>=0.3.32 in /Users/e5028514/miniconda3/lib/python3.12/site-packages (from langchain-community==0.3.16) (0.3.33)\r\n",
      "Requirement already satisfied: langsmith<0.4,>=0.1.125 in /Users/e5028514/miniconda3/lib/python3.12/site-packages (from langchain-community==0.3.16) (0.3.4)\r\n",
      "Requirement already satisfied: numpy<3,>=1.26.2 in /Users/e5028514/miniconda3/lib/python3.12/site-packages (from langchain-community==0.3.16) (2.2.2)\r\n",
      "Requirement already satisfied: pydantic-settings<3.0.0,>=2.4.0 in /Users/e5028514/miniconda3/lib/python3.12/site-packages (from langchain-community==0.3.16) (2.7.1)\r\n",
      "Requirement already satisfied: requests<3,>=2 in /Users/e5028514/miniconda3/lib/python3.12/site-packages (from langchain-community==0.3.16) (2.32.3)\r\n",
      "Requirement already satisfied: tenacity!=8.4.0,<10,>=8.1.0 in /Users/e5028514/miniconda3/lib/python3.12/site-packages (from langchain-community==0.3.16) (9.0.0)\r\n",
      "Requirement already satisfied: aiohappyeyeballs>=2.3.0 in /Users/e5028514/miniconda3/lib/python3.12/site-packages (from aiohttp<4.0.0,>=3.8.3->langchain-community==0.3.16) (2.4.4)\r\n",
      "Requirement already satisfied: aiosignal>=1.1.2 in /Users/e5028514/miniconda3/lib/python3.12/site-packages (from aiohttp<4.0.0,>=3.8.3->langchain-community==0.3.16) (1.3.2)\r\n",
      "Requirement already satisfied: attrs>=17.3.0 in /Users/e5028514/miniconda3/lib/python3.12/site-packages (from aiohttp<4.0.0,>=3.8.3->langchain-community==0.3.16) (25.1.0)\r\n",
      "Requirement already satisfied: frozenlist>=1.1.1 in /Users/e5028514/miniconda3/lib/python3.12/site-packages (from aiohttp<4.0.0,>=3.8.3->langchain-community==0.3.16) (1.5.0)\r\n",
      "Requirement already satisfied: multidict<7.0,>=4.5 in /Users/e5028514/miniconda3/lib/python3.12/site-packages (from aiohttp<4.0.0,>=3.8.3->langchain-community==0.3.16) (6.1.0)\r\n",
      "Requirement already satisfied: propcache>=0.2.0 in /Users/e5028514/miniconda3/lib/python3.12/site-packages (from aiohttp<4.0.0,>=3.8.3->langchain-community==0.3.16) (0.2.1)\r\n",
      "Requirement already satisfied: yarl<2.0,>=1.17.0 in /Users/e5028514/miniconda3/lib/python3.12/site-packages (from aiohttp<4.0.0,>=3.8.3->langchain-community==0.3.16) (1.18.3)\r\n",
      "Requirement already satisfied: marshmallow<4.0.0,>=3.18.0 in /Users/e5028514/miniconda3/lib/python3.12/site-packages (from dataclasses-json<0.7,>=0.5.7->langchain-community==0.3.16) (3.26.1)\r\n",
      "Requirement already satisfied: typing-inspect<1,>=0.4.0 in /Users/e5028514/miniconda3/lib/python3.12/site-packages (from dataclasses-json<0.7,>=0.5.7->langchain-community==0.3.16) (0.9.0)\r\n",
      "Requirement already satisfied: langchain-text-splitters<0.4.0,>=0.3.3 in /Users/e5028514/miniconda3/lib/python3.12/site-packages (from langchain<0.4.0,>=0.3.16->langchain-community==0.3.16) (0.3.5)\r\n",
      "Requirement already satisfied: pydantic<3.0.0,>=2.7.4 in /Users/e5028514/miniconda3/lib/python3.12/site-packages (from langchain<0.4.0,>=0.3.16->langchain-community==0.3.16) (2.10.6)\r\n",
      "Requirement already satisfied: jsonpatch<2.0,>=1.33 in /Users/e5028514/miniconda3/lib/python3.12/site-packages (from langchain-core<0.4.0,>=0.3.32->langchain-community==0.3.16) (1.33)\r\n",
      "Requirement already satisfied: packaging<25,>=23.2 in /Users/e5028514/miniconda3/lib/python3.12/site-packages (from langchain-core<0.4.0,>=0.3.32->langchain-community==0.3.16) (24.1)\r\n",
      "Requirement already satisfied: typing-extensions>=4.7 in /Users/e5028514/miniconda3/lib/python3.12/site-packages (from langchain-core<0.4.0,>=0.3.32->langchain-community==0.3.16) (4.12.2)\r\n",
      "Requirement already satisfied: httpx<1,>=0.23.0 in /Users/e5028514/miniconda3/lib/python3.12/site-packages (from langsmith<0.4,>=0.1.125->langchain-community==0.3.16) (0.28.1)\r\n",
      "Requirement already satisfied: orjson<4.0.0,>=3.9.14 in /Users/e5028514/miniconda3/lib/python3.12/site-packages (from langsmith<0.4,>=0.1.125->langchain-community==0.3.16) (3.10.15)\r\n",
      "Requirement already satisfied: requests-toolbelt<2.0.0,>=1.0.0 in /Users/e5028514/miniconda3/lib/python3.12/site-packages (from langsmith<0.4,>=0.1.125->langchain-community==0.3.16) (1.0.0)\r\n",
      "Requirement already satisfied: zstandard<0.24.0,>=0.23.0 in /Users/e5028514/miniconda3/lib/python3.12/site-packages (from langsmith<0.4,>=0.1.125->langchain-community==0.3.16) (0.23.0)\r\n",
      "Requirement already satisfied: python-dotenv>=0.21.0 in /Users/e5028514/miniconda3/lib/python3.12/site-packages (from pydantic-settings<3.0.0,>=2.4.0->langchain-community==0.3.16) (1.0.1)\r\n",
      "Requirement already satisfied: charset-normalizer<4,>=2 in /Users/e5028514/miniconda3/lib/python3.12/site-packages (from requests<3,>=2->langchain-community==0.3.16) (3.3.2)\r\n",
      "Requirement already satisfied: idna<4,>=2.5 in /Users/e5028514/miniconda3/lib/python3.12/site-packages (from requests<3,>=2->langchain-community==0.3.16) (3.7)\r\n",
      "Requirement already satisfied: urllib3<3,>=1.21.1 in /Users/e5028514/miniconda3/lib/python3.12/site-packages (from requests<3,>=2->langchain-community==0.3.16) (2.2.2)\r\n",
      "Requirement already satisfied: certifi>=2017.4.17 in /Users/e5028514/miniconda3/lib/python3.12/site-packages (from requests<3,>=2->langchain-community==0.3.16) (2024.7.4)\r\n",
      "Requirement already satisfied: anyio in /Users/e5028514/miniconda3/lib/python3.12/site-packages (from httpx<1,>=0.23.0->langsmith<0.4,>=0.1.125->langchain-community==0.3.16) (4.8.0)\r\n",
      "Requirement already satisfied: httpcore==1.* in /Users/e5028514/miniconda3/lib/python3.12/site-packages (from httpx<1,>=0.23.0->langsmith<0.4,>=0.1.125->langchain-community==0.3.16) (1.0.7)\r\n",
      "Requirement already satisfied: h11<0.15,>=0.13 in /Users/e5028514/miniconda3/lib/python3.12/site-packages (from httpcore==1.*->httpx<1,>=0.23.0->langsmith<0.4,>=0.1.125->langchain-community==0.3.16) (0.14.0)\r\n",
      "Requirement already satisfied: jsonpointer>=1.9 in /Users/e5028514/miniconda3/lib/python3.12/site-packages (from jsonpatch<2.0,>=1.33->langchain-core<0.4.0,>=0.3.32->langchain-community==0.3.16) (2.1)\r\n",
      "Requirement already satisfied: annotated-types>=0.6.0 in /Users/e5028514/miniconda3/lib/python3.12/site-packages (from pydantic<3.0.0,>=2.7.4->langchain<0.4.0,>=0.3.16->langchain-community==0.3.16) (0.7.0)\r\n",
      "Requirement already satisfied: pydantic-core==2.27.2 in /Users/e5028514/miniconda3/lib/python3.12/site-packages (from pydantic<3.0.0,>=2.7.4->langchain<0.4.0,>=0.3.16->langchain-community==0.3.16) (2.27.2)\r\n",
      "Requirement already satisfied: mypy-extensions>=0.3.0 in /Users/e5028514/miniconda3/lib/python3.12/site-packages (from typing-inspect<1,>=0.4.0->dataclasses-json<0.7,>=0.5.7->langchain-community==0.3.16) (1.0.0)\r\n",
      "Requirement already satisfied: sniffio>=1.1 in /Users/e5028514/miniconda3/lib/python3.12/site-packages (from anyio->httpx<1,>=0.23.0->langsmith<0.4,>=0.1.125->langchain-community==0.3.16) (1.3.1)\r\n"
     ]
    }
   ],
   "execution_count": 91
  },
  {
   "metadata": {
    "ExecuteTime": {
     "end_time": "2025-02-06T06:09:04.226488Z",
     "start_time": "2025-02-06T06:09:02.849262Z"
    }
   },
   "cell_type": "code",
   "source": "!pip install --upgrade langchain_community\n",
   "id": "65147586bd4ddd56",
   "outputs": [
    {
     "name": "stdout",
     "output_type": "stream",
     "text": [
      "Requirement already satisfied: langchain_community in /Users/e5028514/miniconda3/lib/python3.12/site-packages (0.3.16)\r\n",
      "Requirement already satisfied: PyYAML>=5.3 in /Users/e5028514/miniconda3/lib/python3.12/site-packages (from langchain_community) (6.0.2)\r\n",
      "Requirement already satisfied: SQLAlchemy<3,>=1.4 in /Users/e5028514/miniconda3/lib/python3.12/site-packages (from langchain_community) (2.0.37)\r\n",
      "Requirement already satisfied: aiohttp<4.0.0,>=3.8.3 in /Users/e5028514/miniconda3/lib/python3.12/site-packages (from langchain_community) (3.11.11)\r\n",
      "Requirement already satisfied: dataclasses-json<0.7,>=0.5.7 in /Users/e5028514/miniconda3/lib/python3.12/site-packages (from langchain_community) (0.6.7)\r\n",
      "Requirement already satisfied: httpx-sse<0.5.0,>=0.4.0 in /Users/e5028514/miniconda3/lib/python3.12/site-packages (from langchain_community) (0.4.0)\r\n",
      "Requirement already satisfied: langchain<0.4.0,>=0.3.16 in /Users/e5028514/miniconda3/lib/python3.12/site-packages (from langchain_community) (0.3.17)\r\n",
      "Requirement already satisfied: langchain-core<0.4.0,>=0.3.32 in /Users/e5028514/miniconda3/lib/python3.12/site-packages (from langchain_community) (0.3.33)\r\n",
      "Requirement already satisfied: langsmith<0.4,>=0.1.125 in /Users/e5028514/miniconda3/lib/python3.12/site-packages (from langchain_community) (0.3.4)\r\n",
      "Requirement already satisfied: numpy<3,>=1.26.2 in /Users/e5028514/miniconda3/lib/python3.12/site-packages (from langchain_community) (2.2.2)\r\n",
      "Requirement already satisfied: pydantic-settings<3.0.0,>=2.4.0 in /Users/e5028514/miniconda3/lib/python3.12/site-packages (from langchain_community) (2.7.1)\r\n",
      "Requirement already satisfied: requests<3,>=2 in /Users/e5028514/miniconda3/lib/python3.12/site-packages (from langchain_community) (2.32.3)\r\n",
      "Requirement already satisfied: tenacity!=8.4.0,<10,>=8.1.0 in /Users/e5028514/miniconda3/lib/python3.12/site-packages (from langchain_community) (9.0.0)\r\n",
      "Requirement already satisfied: aiohappyeyeballs>=2.3.0 in /Users/e5028514/miniconda3/lib/python3.12/site-packages (from aiohttp<4.0.0,>=3.8.3->langchain_community) (2.4.4)\r\n",
      "Requirement already satisfied: aiosignal>=1.1.2 in /Users/e5028514/miniconda3/lib/python3.12/site-packages (from aiohttp<4.0.0,>=3.8.3->langchain_community) (1.3.2)\r\n",
      "Requirement already satisfied: attrs>=17.3.0 in /Users/e5028514/miniconda3/lib/python3.12/site-packages (from aiohttp<4.0.0,>=3.8.3->langchain_community) (25.1.0)\r\n",
      "Requirement already satisfied: frozenlist>=1.1.1 in /Users/e5028514/miniconda3/lib/python3.12/site-packages (from aiohttp<4.0.0,>=3.8.3->langchain_community) (1.5.0)\r\n",
      "Requirement already satisfied: multidict<7.0,>=4.5 in /Users/e5028514/miniconda3/lib/python3.12/site-packages (from aiohttp<4.0.0,>=3.8.3->langchain_community) (6.1.0)\r\n",
      "Requirement already satisfied: propcache>=0.2.0 in /Users/e5028514/miniconda3/lib/python3.12/site-packages (from aiohttp<4.0.0,>=3.8.3->langchain_community) (0.2.1)\r\n",
      "Requirement already satisfied: yarl<2.0,>=1.17.0 in /Users/e5028514/miniconda3/lib/python3.12/site-packages (from aiohttp<4.0.0,>=3.8.3->langchain_community) (1.18.3)\r\n",
      "Requirement already satisfied: marshmallow<4.0.0,>=3.18.0 in /Users/e5028514/miniconda3/lib/python3.12/site-packages (from dataclasses-json<0.7,>=0.5.7->langchain_community) (3.26.1)\r\n",
      "Requirement already satisfied: typing-inspect<1,>=0.4.0 in /Users/e5028514/miniconda3/lib/python3.12/site-packages (from dataclasses-json<0.7,>=0.5.7->langchain_community) (0.9.0)\r\n",
      "Requirement already satisfied: langchain-text-splitters<0.4.0,>=0.3.3 in /Users/e5028514/miniconda3/lib/python3.12/site-packages (from langchain<0.4.0,>=0.3.16->langchain_community) (0.3.5)\r\n",
      "Requirement already satisfied: pydantic<3.0.0,>=2.7.4 in /Users/e5028514/miniconda3/lib/python3.12/site-packages (from langchain<0.4.0,>=0.3.16->langchain_community) (2.10.6)\r\n",
      "Requirement already satisfied: jsonpatch<2.0,>=1.33 in /Users/e5028514/miniconda3/lib/python3.12/site-packages (from langchain-core<0.4.0,>=0.3.32->langchain_community) (1.33)\r\n",
      "Requirement already satisfied: packaging<25,>=23.2 in /Users/e5028514/miniconda3/lib/python3.12/site-packages (from langchain-core<0.4.0,>=0.3.32->langchain_community) (24.1)\r\n",
      "Requirement already satisfied: typing-extensions>=4.7 in /Users/e5028514/miniconda3/lib/python3.12/site-packages (from langchain-core<0.4.0,>=0.3.32->langchain_community) (4.12.2)\r\n",
      "Requirement already satisfied: httpx<1,>=0.23.0 in /Users/e5028514/miniconda3/lib/python3.12/site-packages (from langsmith<0.4,>=0.1.125->langchain_community) (0.28.1)\r\n",
      "Requirement already satisfied: orjson<4.0.0,>=3.9.14 in /Users/e5028514/miniconda3/lib/python3.12/site-packages (from langsmith<0.4,>=0.1.125->langchain_community) (3.10.15)\r\n",
      "Requirement already satisfied: requests-toolbelt<2.0.0,>=1.0.0 in /Users/e5028514/miniconda3/lib/python3.12/site-packages (from langsmith<0.4,>=0.1.125->langchain_community) (1.0.0)\r\n",
      "Requirement already satisfied: zstandard<0.24.0,>=0.23.0 in /Users/e5028514/miniconda3/lib/python3.12/site-packages (from langsmith<0.4,>=0.1.125->langchain_community) (0.23.0)\r\n",
      "Requirement already satisfied: python-dotenv>=0.21.0 in /Users/e5028514/miniconda3/lib/python3.12/site-packages (from pydantic-settings<3.0.0,>=2.4.0->langchain_community) (1.0.1)\r\n",
      "Requirement already satisfied: charset-normalizer<4,>=2 in /Users/e5028514/miniconda3/lib/python3.12/site-packages (from requests<3,>=2->langchain_community) (3.3.2)\r\n",
      "Requirement already satisfied: idna<4,>=2.5 in /Users/e5028514/miniconda3/lib/python3.12/site-packages (from requests<3,>=2->langchain_community) (3.7)\r\n",
      "Requirement already satisfied: urllib3<3,>=1.21.1 in /Users/e5028514/miniconda3/lib/python3.12/site-packages (from requests<3,>=2->langchain_community) (2.2.2)\r\n",
      "Requirement already satisfied: certifi>=2017.4.17 in /Users/e5028514/miniconda3/lib/python3.12/site-packages (from requests<3,>=2->langchain_community) (2024.7.4)\r\n",
      "Requirement already satisfied: anyio in /Users/e5028514/miniconda3/lib/python3.12/site-packages (from httpx<1,>=0.23.0->langsmith<0.4,>=0.1.125->langchain_community) (4.8.0)\r\n",
      "Requirement already satisfied: httpcore==1.* in /Users/e5028514/miniconda3/lib/python3.12/site-packages (from httpx<1,>=0.23.0->langsmith<0.4,>=0.1.125->langchain_community) (1.0.7)\r\n",
      "Requirement already satisfied: h11<0.15,>=0.13 in /Users/e5028514/miniconda3/lib/python3.12/site-packages (from httpcore==1.*->httpx<1,>=0.23.0->langsmith<0.4,>=0.1.125->langchain_community) (0.14.0)\r\n",
      "Requirement already satisfied: jsonpointer>=1.9 in /Users/e5028514/miniconda3/lib/python3.12/site-packages (from jsonpatch<2.0,>=1.33->langchain-core<0.4.0,>=0.3.32->langchain_community) (2.1)\r\n",
      "Requirement already satisfied: annotated-types>=0.6.0 in /Users/e5028514/miniconda3/lib/python3.12/site-packages (from pydantic<3.0.0,>=2.7.4->langchain<0.4.0,>=0.3.16->langchain_community) (0.7.0)\r\n",
      "Requirement already satisfied: pydantic-core==2.27.2 in /Users/e5028514/miniconda3/lib/python3.12/site-packages (from pydantic<3.0.0,>=2.7.4->langchain<0.4.0,>=0.3.16->langchain_community) (2.27.2)\r\n",
      "Requirement already satisfied: mypy-extensions>=0.3.0 in /Users/e5028514/miniconda3/lib/python3.12/site-packages (from typing-inspect<1,>=0.4.0->dataclasses-json<0.7,>=0.5.7->langchain_community) (1.0.0)\r\n",
      "Requirement already satisfied: sniffio>=1.1 in /Users/e5028514/miniconda3/lib/python3.12/site-packages (from anyio->httpx<1,>=0.23.0->langsmith<0.4,>=0.1.125->langchain_community) (1.3.1)\r\n"
     ]
    }
   ],
   "execution_count": 93
  },
  {
   "metadata": {
    "ExecuteTime": {
     "end_time": "2025-02-05T23:19:16.284860Z",
     "start_time": "2025-02-05T23:19:16.278209Z"
    }
   },
   "cell_type": "code",
   "source": [
    "#sys env\n",
    "import os\n",
    "import sys\n",
    "from dotenv import load_dotenv\n",
    "\n",
    "#langchain\n",
    "import langchain\n",
    "from langchain_community.document_loaders import PyPDFLoader, PyPDFDirectoryLoader\n",
    "import warnings\n",
    "warnings.filterwarnings(\"ignore\", category=UserWarning, module=\"pypdf\")\n",
    "import pypdf\n",
    "\n",
    "\n",
    "import chromadb\n",
    "\n",
    "import pprint\n",
    "\n",
    "\n",
    "\n",
    "import tiktoken\n",
    "\n",
    "import pydantic\n",
    "import lxml\n",
    "\n",
    "import matplotlib.pyplot as plt\n",
    "\n",
    "import logging\n",
    "\n",
    "\n",
    "import zipfile\n",
    "import requests"
   ],
   "id": "2ee2c796995d2d86",
   "outputs": [],
   "execution_count": 83
  },
  {
   "metadata": {
    "ExecuteTime": {
     "end_time": "2025-02-05T03:16:19.865142Z",
     "start_time": "2025-02-05T03:16:19.306323Z"
    }
   },
   "cell_type": "code",
   "source": [
    "load_dotenv()\n",
    "GEMINI_API=os.getenv(\"GEMINI_API\")\n"
   ],
   "id": "def3266ca3794b26",
   "outputs": [],
   "execution_count": 42
  },
  {
   "metadata": {},
   "cell_type": "markdown",
   "source": "",
   "id": "cbc84866aab7c66"
  },
  {
   "metadata": {
    "ExecuteTime": {
     "end_time": "2025-02-06T05:32:57.131960Z",
     "start_time": "2025-02-06T05:32:57.122562Z"
    }
   },
   "cell_type": "code",
   "source": "folder_slides=\"/Volumes/mashenka/delete/cyber/slides\"",
   "id": "1dc5f522a21ddf28",
   "outputs": [],
   "execution_count": 85
  },
  {
   "metadata": {
    "ExecuteTime": {
     "end_time": "2025-02-06T06:21:04.520964Z",
     "start_time": "2025-02-06T06:21:04.515481Z"
    }
   },
   "cell_type": "code",
   "source": [
    "#load pdf functions\n",
    "#learner guide - parse as image\n",
    "#PP slides - parse pdf text only\n",
    "\n",
    "def is_valid_pdf(file_path):\n",
    "    try:\n",
    "        with open(file_path, 'rb') as f:\n",
    "            header = f.read(5)\n",
    "            return header == b'%PDF-'\n",
    "    except Exception:\n",
    "        return False\n",
    "\n",
    "def load_pdfs(path: str):\n",
    "    all_pdf = []\n",
    "    for filename in os.listdir(path):\n",
    "        file_path=os.path.join(path,filename)\n",
    "        if filename.endswith(\".pdf\") and is_valid_pdf(file_path):\n",
    "            file_path = os.path.join(path, filename)\n",
    "            try:\n",
    "                #extract_images requires pip install rapidocr-onnxruntime\n",
    "                pages=[]\n",
    "                loader = PyPDFLoader(file_path)\n",
    "                for page in loader.lazy_load():\n",
    "                    pages.append(page)\n",
    "                all_pdf.append(pages)\n",
    "\n",
    "            except Exception as e:\n",
    "                print(f\"Failed to process file {filename}: {e}\")\n",
    "    return all_pdf\n",
    "\n",
    "def load_pdf_folder(path: str):\n",
    "    loader=PyPDFDirectoryLoader(path)\n",
    "    all_pdf=loader.load()\n",
    "    return all_pdf\n"
   ],
   "id": "865d369129790b32",
   "outputs": [],
   "execution_count": 98
  },
  {
   "metadata": {
    "ExecuteTime": {
     "end_time": "2025-02-06T06:22:40.178257Z",
     "start_time": "2025-02-06T06:22:39.675314Z"
    }
   },
   "cell_type": "code",
   "source": [
    "all_slides=load_pdf_folder(\"/Volumes/mashenka/delete/cyber/slides/\")\n",
    "\n",
    "all_slides_=load_pdfs(\"/Volumes/mashenka/delete/cyber/slides/\")"
   ],
   "id": "69e3f48fbba13f04",
   "outputs": [],
   "execution_count": 101
  },
  {
   "metadata": {
    "ExecuteTime": {
     "end_time": "2025-02-06T06:21:56.515442Z",
     "start_time": "2025-02-06T06:21:56.513136Z"
    }
   },
   "cell_type": "code",
   "source": "pprint.pp(all_slides[0].page_content)",
   "id": "2be999247d29838d",
   "outputs": [
    {
     "name": "stdout",
     "output_type": "stream",
     "text": [
      "'VU23215\\nTest concepts and procedures for \\ncyber security\\n1\\nVU23215'\n"
     ]
    }
   ],
   "execution_count": 100
  },
  {
   "metadata": {
    "ExecuteTime": {
     "end_time": "2025-02-06T05:35:10.169145Z",
     "start_time": "2025-02-06T05:35:10.148596Z"
    }
   },
   "cell_type": "code",
   "source": [
    "loader = PyPDFLoader(\n",
    "    \"/Volumes/mashenka/delete/cyber/slides/VU23215 Session_4.pdf\"\n",
    ")"
   ],
   "id": "be77ab81cd17be9d",
   "outputs": [
    {
     "ename": "TypeError",
     "evalue": "PyPDFLoader.__init__() got an unexpected keyword argument 'mode'",
     "output_type": "error",
     "traceback": [
      "\u001B[0;31m---------------------------------------------------------------------------\u001B[0m",
      "\u001B[0;31mTypeError\u001B[0m                                 Traceback (most recent call last)",
      "Cell \u001B[0;32mIn[88], line 1\u001B[0m\n\u001B[0;32m----> 1\u001B[0m loader \u001B[38;5;241m=\u001B[39m \u001B[43mPyPDFLoader\u001B[49m\u001B[43m(\u001B[49m\n\u001B[1;32m      2\u001B[0m \u001B[43m    \u001B[49m\u001B[38;5;124;43m\"\u001B[39;49m\u001B[38;5;124;43m/Volumes/mashenka/delete/cyber/slides/VU23215 Session_4.pdf\u001B[39;49m\u001B[38;5;124;43m\"\u001B[39;49m\u001B[43m,\u001B[49m\n\u001B[1;32m      3\u001B[0m \u001B[43m    \u001B[49m\u001B[43mmode\u001B[49m\u001B[38;5;241;43m=\u001B[39;49m\u001B[38;5;124;43m\"\u001B[39;49m\u001B[38;5;124;43msingle\u001B[39;49m\u001B[38;5;124;43m\"\u001B[39;49m\u001B[43m,\u001B[49m\n\u001B[1;32m      4\u001B[0m \u001B[43m)\u001B[49m\n",
      "\u001B[0;31mTypeError\u001B[0m: PyPDFLoader.__init__() got an unexpected keyword argument 'mode'"
     ]
    }
   ],
   "execution_count": 88
  },
  {
   "metadata": {
    "ExecuteTime": {
     "end_time": "2025-02-06T05:33:34.293868Z",
     "start_time": "2025-02-06T05:33:34.072645Z"
    }
   },
   "cell_type": "code",
   "source": "slides=load_pdfs(folder_slides)",
   "id": "15bd669648219fc",
   "outputs": [
    {
     "name": "stdout",
     "output_type": "stream",
     "text": [
      "Failed to process file VU23215 Session_1.pdf: PyPDFLoader.__init__() got an unexpected keyword argument 'mode'\n",
      "Failed to process file VU23215 Session_2.pdf: PyPDFLoader.__init__() got an unexpected keyword argument 'mode'\n",
      "Failed to process file VU23215 Session_3.pdf: PyPDFLoader.__init__() got an unexpected keyword argument 'mode'\n",
      "Failed to process file VU23215 Session_4.pdf: PyPDFLoader.__init__() got an unexpected keyword argument 'mode'\n"
     ]
    }
   ],
   "execution_count": 87
  },
  {
   "metadata": {
    "ExecuteTime": {
     "end_time": "2025-02-05T23:19:41.422215Z",
     "start_time": "2025-02-05T23:19:41.420105Z"
    }
   },
   "cell_type": "code",
   "source": [
    "loader=PyPDFDirectoryLoader(folder_pdf)\n",
    "slides=loader.load()\n",
    "\n",
    "print(len(slides))\n",
    "pprint.pp(slides[24].page_content)"
   ],
   "id": "ac36f8ebd3eebc84",
   "outputs": [
    {
     "name": "stdout",
     "output_type": "stream",
     "text": [
      "72\n",
      "'VU23215\\nTest concepts and procedures for cyber security\\n1\\nSession 2'\n"
     ]
    }
   ],
   "execution_count": 84
  },
  {
   "metadata": {
    "ExecuteTime": {
     "end_time": "2025-02-05T06:10:33.607490Z",
     "start_time": "2025-02-05T06:10:33.327430Z"
    }
   },
   "cell_type": "code",
   "source": [
    "file_path = \"/Volumes/mashenka/Python312/cj/cj.pdf\"\n",
    "loader = PyPDFLoader(file_path, extract_images=True)\n",
    "pages = []\n",
    "async for page in loader.alazy_load():\n",
    "    pages.append(page)\n",
    "\n",
    "\n"
   ],
   "id": "b4bfca722bae8e9f",
   "outputs": [
    {
     "name": "stdout",
     "output_type": "stream",
     "text": [
      "{'source': '/Volumes/mashenka/Python312/cj/cj.pdf', 'page': 0, 'page_label': '1'}\n"
     ]
    }
   ],
   "execution_count": 71
  },
  {
   "metadata": {
    "ExecuteTime": {
     "end_time": "2025-02-05T04:54:31.182909Z",
     "start_time": "2025-02-05T04:53:20.126247Z"
    }
   },
   "cell_type": "code",
   "source": [
    "#load pdfs\n",
    "folder_path = \"/Volumes/mashenka/Python312/cj\"\n",
    "\n",
    "loader = PyPDFDirectoryLoader(folder_path, extract_images=True)\n",
    "all_pdf=loader.lazy_load()\n",
    "\n",
    "\n",
    "def is_valid_pdf(file_path):\n",
    "    try:\n",
    "        with open(file_path, 'rb') as f:\n",
    "            header = f.read(5)\n",
    "            return header == b'%PDF-'\n",
    "    except Exception:\n",
    "        return False\n",
    "\n",
    "def load_pdfs(path: str):\n",
    "    all_pdf = []\n",
    "    for filename in os.listdir(path):\n",
    "        file_path=os.path.join(path,filename)\n",
    "        if filename.endswith(\".pdf\") and is_valid_pdf(file_path):\n",
    "            file_path = os.path.join(path, filename)\n",
    "            try:\n",
    "                #extract_images requires pip install rapidocr-onnxruntime\n",
    "                loader = PyPDFLoader(file_path, extract_images=True)\n",
    "                doc = loader.load()\n",
    "                texts = [d.page_content for d in doc]\n",
    "                all_pdf.append(texts)\n",
    "\n",
    "                #extracting images as image files\n",
    "                for page in doc:\n",
    "                    for image in doc.images:\n",
    "                        image_filename=f\"{filename}_page_{page.page_number}_image_{image[\"]}\"\n",
    "\n",
    "            except Exception as e:\n",
    "                print(f\"Failed to process file {filename}: {e}\")\n",
    "    return all_pdf\n",
    "\n",
    "pdfs=load_pdfs(folder_path)\n"
   ],
   "id": "a0a5c3823675b1a7",
   "outputs": [],
   "execution_count": 68
  },
  {
   "metadata": {},
   "cell_type": "markdown",
   "source": "## Load images and summarize images to be further used as text",
   "id": "3d04f048141de818"
  },
  {
   "metadata": {},
   "cell_type": "code",
   "outputs": [],
   "execution_count": null,
   "source": "from transformers import BLIP",
   "id": "551e6d343e34a17b"
  },
  {
   "metadata": {},
   "cell_type": "code",
   "outputs": [],
   "execution_count": null,
   "source": "",
   "id": "a06970faa980bd8e"
  }
 ],
 "metadata": {
  "kernelspec": {
   "display_name": "Python 3",
   "language": "python",
   "name": "python3"
  },
  "language_info": {
   "codemirror_mode": {
    "name": "ipython",
    "version": 2
   },
   "file_extension": ".py",
   "mimetype": "text/x-python",
   "name": "python",
   "nbconvert_exporter": "python",
   "pygments_lexer": "ipython2",
   "version": "2.7.6"
  }
 },
 "nbformat": 4,
 "nbformat_minor": 5
}
