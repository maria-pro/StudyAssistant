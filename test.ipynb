{
 "cells": [
  {
   "metadata": {
    "ExecuteTime": {
     "end_time": "2025-02-05T01:55:07.925790Z",
     "start_time": "2025-02-05T01:55:07.718332Z"
    }
   },
   "cell_type": "code",
   "source": [
    "#sys env\n",
    "import os\n",
    "import sys\n",
    "from dotenv import load_dotenv\n",
    "\n",
    "#langchain\n",
    "import langchain\n",
    "from langchain_community.document_loaders import PyPDFLoader\n",
    "\n",
    "import chromadb\n",
    "\n",
    "import pypdf\n",
    "\n",
    "import tiktoken\n",
    "\n",
    "import pydantic\n",
    "import lxml\n",
    "\n",
    "import matplotlib.pyplot as plt\n",
    "\n",
    "import logging\n",
    "import zipfile\n",
    "import requests"
   ],
   "id": "2ee2c796995d2d86",
   "outputs": [],
   "execution_count": 26
  },
  {
   "metadata": {
    "ExecuteTime": {
     "end_time": "2025-02-05T03:16:19.865142Z",
     "start_time": "2025-02-05T03:16:19.306323Z"
    }
   },
   "cell_type": "code",
   "source": [
    "load_dotenv()\n",
    "GEMINI_API=os.getenv(\"GEMINI_API\")\n"
   ],
   "id": "def3266ca3794b26",
   "outputs": [],
   "execution_count": 42
  },
  {
   "metadata": {
    "ExecuteTime": {
     "end_time": "2025-02-05T00:02:39.312773Z",
     "start_time": "2025-02-05T00:02:37.238483Z"
    }
   },
   "cell_type": "code",
   "source": [
    "#get documents from zip in pdf\n",
    "\n",
    "logging.basicConfig(level=logging.INFO)\n",
    "\n",
    "data_url = \"https://storage.googleapis.com/benchmarks-artifacts/langchain-docs-benchmarking/cj.zip\"\n",
    "result = requests.get(data_url)\n",
    "filename = \"cj.zip\"\n",
    "with open(filename, \"wb\") as file:\n",
    "   file.write(result.content)\n",
    "\n",
    "with zipfile.ZipFile(filename, \"r\") as zip_ref:\n",
    "   zip_ref.extractall()"
   ],
   "id": "115acc5222e27f58",
   "outputs": [],
   "execution_count": 24
  },
  {
   "metadata": {
    "ExecuteTime": {
     "end_time": "2025-02-05T02:13:43.012601Z",
     "start_time": "2025-02-05T02:13:42.718076Z"
    }
   },
   "cell_type": "code",
   "source": [
    "#load pdfs\n",
    "def load_pdfs(path: str):\n",
    "folder_path=\"/Volumes/mashenka/Python312/cj\"\n",
    "all_pdf=[]\n",
    "for filename in os.listdir(folder_path):\n",
    "    if filename.endswith(\".pdf\") and not filename.startswith(\"._\"):\n",
    "        file_path=os.path.join(folder_path, filename)\n",
    "        print(file_path)\n",
    "        try:\n",
    "            loader=PyPDFLoader(file_path)\n",
    "            doc=loader.load()\n",
    "            texts=[d.page_content for d in doc]\n",
    "            all_pdf.extend(texts)\n",
    "        except Exception as e:\n",
    "            print(f\"Failed to process file {filename}: e\")\n",
    "\n",
    "\n",
    "#for text in texts:\n",
    " #   print(text)"
   ],
   "id": "a0a5c3823675b1a7",
   "outputs": [
    {
     "name": "stdout",
     "output_type": "stream",
     "text": [
      "/Volumes/mashenka/Python312/cj/cj.pdf\n"
     ]
    }
   ],
   "execution_count": 41
  },
  {
   "metadata": {
    "ExecuteTime": {
     "end_time": "2025-02-05T02:13:18.712583Z",
     "start_time": "2025-02-05T02:13:18.435919Z"
    }
   },
   "cell_type": "code",
   "source": [
    "loader = PyPDFLoader(\"/Volumes/mashenka/Python312/cj/cj.pdf\")\n",
    "docs = loader.load()\n",
    "tables = []\n",
    "texts = [d.page_content for d in docs]"
   ],
   "id": "89648284e1c3c58",
   "outputs": [],
   "execution_count": 40
  },
  {
   "metadata": {
    "ExecuteTime": {
     "end_time": "2025-02-05T01:56:26.439293Z",
     "start_time": "2025-02-05T01:56:26.436407Z"
    }
   },
   "cell_type": "code",
   "source": "print(dir(docs))",
   "id": "252b3fdc598d5caa",
   "outputs": [
    {
     "name": "stdout",
     "output_type": "stream",
     "text": [
      "['__add__', '__class__', '__class_getitem__', '__contains__', '__delattr__', '__delitem__', '__dir__', '__doc__', '__eq__', '__format__', '__ge__', '__getattribute__', '__getitem__', '__getstate__', '__gt__', '__hash__', '__iadd__', '__imul__', '__init__', '__init_subclass__', '__iter__', '__le__', '__len__', '__lt__', '__mul__', '__ne__', '__new__', '__reduce__', '__reduce_ex__', '__repr__', '__reversed__', '__rmul__', '__setattr__', '__setitem__', '__sizeof__', '__str__', '__subclasshook__', 'append', 'clear', 'copy', 'count', 'extend', 'index', 'insert', 'pop', 'remove', 'reverse', 'sort']\n"
     ]
    }
   ],
   "execution_count": 31
  },
  {
   "metadata": {
    "ExecuteTime": {
     "end_time": "2025-02-03T23:47:52.919698Z",
     "start_time": "2025-02-03T23:47:52.916849Z"
    }
   },
   "cell_type": "code",
   "source": "print(sys.executable)",
   "id": "f04536d1fba84a90",
   "outputs": [
    {
     "name": "stdout",
     "output_type": "stream",
     "text": [
      "/Users/e5028514/miniconda3/bin/python\n"
     ]
    }
   ],
   "execution_count": 4
  },
  {
   "cell_type": "code",
   "id": "initial_id",
   "metadata": {
    "collapsed": true,
    "ExecuteTime": {
     "end_time": "2025-02-03T23:47:53.057083Z",
     "start_time": "2025-02-03T23:47:53.055243Z"
    }
   },
   "source": "print(2+2)",
   "outputs": [
    {
     "name": "stdout",
     "output_type": "stream",
     "text": [
      "4\n"
     ]
    }
   ],
   "execution_count": 5
  },
  {
   "metadata": {},
   "cell_type": "code",
   "outputs": [],
   "execution_count": null,
   "source": "",
   "id": "a06970faa980bd8e"
  }
 ],
 "metadata": {
  "kernelspec": {
   "display_name": "Python 3",
   "language": "python",
   "name": "python3"
  },
  "language_info": {
   "codemirror_mode": {
    "name": "ipython",
    "version": 2
   },
   "file_extension": ".py",
   "mimetype": "text/x-python",
   "name": "python",
   "nbconvert_exporter": "python",
   "pygments_lexer": "ipython2",
   "version": "2.7.6"
  }
 },
 "nbformat": 4,
 "nbformat_minor": 5
}
