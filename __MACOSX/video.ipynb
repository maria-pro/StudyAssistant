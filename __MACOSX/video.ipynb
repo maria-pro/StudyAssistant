{
 "cells": [
  {
   "cell_type": "code",
   "id": "initial_id",
   "metadata": {
    "collapsed": true,
    "ExecuteTime": {
     "end_time": "2025-02-06T09:32:04.823295Z",
     "start_time": "2025-02-06T09:32:04.820292Z"
    }
   },
   "source": [
    "from moviepy import VideoFileClip\n",
    "\n",
    "import whisper\n",
    "\n",
    "import torch"
   ],
   "outputs": [],
   "execution_count": 8
  },
  {
   "metadata": {
    "ExecuteTime": {
     "end_time": "2025-02-06T09:32:12.509401Z",
     "start_time": "2025-02-06T09:32:12.140458Z"
    }
   },
   "cell_type": "code",
   "source": "lecture=VideoFileClip(\"/Volumes/mashenka/delete/cyber/video/GMT20250204-220522_Recording_1920x1080.mp4\")",
   "id": "d180f69a832ad2b",
   "outputs": [
    {
     "name": "stdout",
     "output_type": "stream",
     "text": [
      "{'video_found': True, 'audio_found': True, 'metadata': {'major_brand': 'mp42', 'minor_version': '0', 'compatible_brands': 'isommp42', 'creation_time': '2025-02-04T22:05:22.000000Z'}, 'inputs': [{'streams': [{'input_number': 0, 'stream_number': 0, 'stream_type': 'audio', 'language': None, 'default': True, 'fps': 32000, 'bitrate': 126, 'metadata': {'Metadata': '', 'creation_time': '2025-02-04T22:05:22.000000Z', 'handler_name': 'AAC audio', 'vendor_id': '[0][0][0][0]'}}, {'input_number': 0, 'stream_number': 1, 'stream_type': 'video', 'language': None, 'default': True, 'size': [1920, 1080], 'bitrate': 521, 'fps': 25.0, 'codec_name': 'h264', 'profile': '(Baseline)', 'metadata': {'Metadata': '', 'creation_time': '2025-02-04T22:05:22.000000Z', 'handler_name': 'H.264/AVC video', 'vendor_id': '[0][0][0][0]', 'encoder': 'AVC Coding'}}], 'input_number': 0}], 'duration': 19011.44, 'bitrate': 650, 'start': 0.0, 'default_audio_input_number': 0, 'default_audio_stream_number': 0, 'audio_fps': 32000, 'audio_bitrate': 126, 'default_video_input_number': 0, 'default_video_stream_number': 1, 'video_codec_name': 'h264', 'video_profile': '(Baseline)', 'video_size': [1920, 1080], 'video_bitrate': 521, 'video_fps': 25.0, 'video_duration': 19011.44, 'video_n_frames': 475285}\n",
      "/Users/e5028514/miniconda3/lib/python3.12/site-packages/imageio_ffmpeg/binaries/ffmpeg-macos-aarch64-v7.1 -i /Volumes/mashenka/delete/cyber/video/GMT20250204-220522_Recording_1920x1080.mp4 -loglevel error -f image2pipe -vf scale=1920:1080 -sws_flags bicubic -pix_fmt rgb24 -vcodec rawvideo -\n"
     ]
    }
   ],
   "execution_count": 9
  },
  {
   "metadata": {
    "ExecuteTime": {
     "end_time": "2025-02-06T10:20:53.894700Z",
     "start_time": "2025-02-06T10:20:53.890524Z"
    }
   },
   "cell_type": "code",
   "source": [
    "audio=lecture.audio\n",
    "#audio.write_audiofile(\"lecture2.wav\")"
   ],
   "id": "6af32c97bde5d15c",
   "outputs": [],
   "execution_count": 12
  },
  {
   "metadata": {
    "ExecuteTime": {
     "end_time": "2025-02-06T10:20:55.477611Z",
     "start_time": "2025-02-06T10:20:54.853949Z"
    }
   },
   "cell_type": "code",
   "source": "model = whisper.load_model(\"base\")",
   "id": "e6df362f72a646ef",
   "outputs": [],
   "execution_count": 13
  },
  {
   "metadata": {
    "ExecuteTime": {
     "end_time": "2025-02-06T10:35:29.854627Z",
     "start_time": "2025-02-06T10:21:01.684215Z"
    }
   },
   "cell_type": "code",
   "source": "result=model.transcribe(\"lecture2.wav\")",
   "id": "78089b0e4b7aaa63",
   "outputs": [
    {
     "name": "stderr",
     "output_type": "stream",
     "text": [
      "/Users/e5028514/miniconda3/lib/python3.12/site-packages/whisper/transcribe.py:126: UserWarning: FP16 is not supported on CPU; using FP32 instead\n",
      "  warnings.warn(\"FP16 is not supported on CPU; using FP32 instead\")\n"
     ]
    }
   ],
   "execution_count": 14
  },
  {
   "metadata": {
    "ExecuteTime": {
     "end_time": "2025-02-06T10:42:45.072873Z",
     "start_time": "2025-02-06T10:42:45.070954Z"
    }
   },
   "cell_type": "code",
   "source": "transcript=result[\"text\"]",
   "id": "728faeca7e67bafa",
   "outputs": [],
   "execution_count": 16
  },
  {
   "metadata": {
    "ExecuteTime": {
     "end_time": "2025-02-06T10:44:41.006516Z",
     "start_time": "2025-02-06T10:44:40.858836Z"
    }
   },
   "cell_type": "code",
   "source": [
    "with open(\"transcript.txt\", \"w\") as f:\n",
    "    f.write(transcript)"
   ],
   "id": "6bbae65edb0c06",
   "outputs": [],
   "execution_count": 18
  },
  {
   "metadata": {},
   "cell_type": "code",
   "outputs": [],
   "execution_count": null,
   "source": "",
   "id": "b06f2154e950b828"
  }
 ],
 "metadata": {
  "kernelspec": {
   "display_name": "Python 3",
   "language": "python",
   "name": "python3"
  },
  "language_info": {
   "codemirror_mode": {
    "name": "ipython",
    "version": 2
   },
   "file_extension": ".py",
   "mimetype": "text/x-python",
   "name": "python",
   "nbconvert_exporter": "python",
   "pygments_lexer": "ipython2",
   "version": "2.7.6"
  }
 },
 "nbformat": 4,
 "nbformat_minor": 5
}
