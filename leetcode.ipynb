{
 "cells": [
  {
   "cell_type": "code",
   "id": "initial_id",
   "metadata": {
    "collapsed": true,
    "ExecuteTime": {
     "end_time": "2025-02-28T05:17:07.193755Z",
     "start_time": "2025-02-28T05:17:07.191145Z"
    }
   },
   "source": [
    "num=123300900\n",
    "new_num=0\n",
    "while num>0:\n",
    "    new_num=new_num*10+num%10\n",
    "    num=num//10\n",
    "print(new_num)"
   ],
   "outputs": [
    {
     "name": "stdout",
     "output_type": "stream",
     "text": [
      "9003321\n"
     ]
    }
   ],
   "execution_count": 5
  },
  {
   "metadata": {
    "ExecuteTime": {
     "end_time": "2025-02-28T06:12:44.484704Z",
     "start_time": "2025-02-28T06:12:44.479677Z"
    }
   },
   "cell_type": "code",
   "source": "123%10",
   "id": "db7c2e71a39a4fc8",
   "outputs": [
    {
     "data": {
      "text/plain": [
       "3"
      ]
     },
     "execution_count": 13,
     "metadata": {},
     "output_type": "execute_result"
    }
   ],
   "execution_count": 13
  },
  {
   "metadata": {
    "ExecuteTime": {
     "end_time": "2025-02-28T06:19:04.123667Z",
     "start_time": "2025-02-28T06:19:04.121151Z"
    }
   },
   "cell_type": "code",
   "source": [
    "num=12321\n",
    "\n",
    "old_num=num\n",
    "poli=0\n",
    "while old_num>0:\n",
    "    poli=poli*10+old_num%10\n",
    "    old_num=old_num//10\n",
    "\n",
    "print(poli)\n",
    "if poli==num:\n",
    "    print(\"yes\")\n",
    "else: print(\"no\")"
   ],
   "id": "c746156c769b6d22",
   "outputs": [
    {
     "name": "stdout",
     "output_type": "stream",
     "text": [
      "12321\n",
      "yes\n"
     ]
    }
   ],
   "execution_count": 22
  },
  {
   "metadata": {
    "ExecuteTime": {
     "end_time": "2025-02-28T05:23:54.704360Z",
     "start_time": "2025-02-28T05:23:54.701763Z"
    }
   },
   "cell_type": "code",
   "source": "reverseBits(123)",
   "id": "2bcee0e76b135df9",
   "outputs": [
    {
     "name": "stdout",
     "output_type": "stream",
     "text": [
      "123\n",
      "3\n",
      "32\n",
      "321\n"
     ]
    },
    {
     "data": {
      "text/plain": [
       "321"
      ]
     },
     "execution_count": 12,
     "metadata": {},
     "output_type": "execute_result"
    }
   ],
   "execution_count": 12
  },
  {
   "metadata": {
    "ExecuteTime": {
     "end_time": "2025-02-28T07:05:57.630753Z",
     "start_time": "2025-02-28T07:05:57.628035Z"
    }
   },
   "cell_type": "code",
   "source": [
    "n=17\n",
    "m=20\n",
    "\n",
    "while n%m>0:\n",
    "    if n>m:\n",
    "        n=n-m\n",
    "        print(n, m)\n",
    "    else:\n",
    "        m=m-n\n",
    "        print(n, m)\n",
    "if n>m:\n",
    "\n",
    "    print(\"den m=\", m)\n",
    "else:\n",
    "    print(\"den n =\", n)\n",
    "\n"
   ],
   "id": "2da2857c1da9ed08",
   "outputs": [
    {
     "name": "stdout",
     "output_type": "stream",
     "text": [
      "17 3\n",
      "14 3\n",
      "11 3\n",
      "8 3\n",
      "5 3\n",
      "2 3\n",
      "2 1\n",
      "den m= 1\n"
     ]
    }
   ],
   "execution_count": 25
  },
  {
   "metadata": {},
   "cell_type": "code",
   "outputs": [],
   "execution_count": null,
   "source": "",
   "id": "ddc2f9d557091fc8"
  }
 ],
 "metadata": {
  "kernelspec": {
   "display_name": "Python 3",
   "language": "python",
   "name": "python3"
  },
  "language_info": {
   "codemirror_mode": {
    "name": "ipython",
    "version": 2
   },
   "file_extension": ".py",
   "mimetype": "text/x-python",
   "name": "python",
   "nbconvert_exporter": "python",
   "pygments_lexer": "ipython2",
   "version": "2.7.6"
  }
 },
 "nbformat": 4,
 "nbformat_minor": 5
}
