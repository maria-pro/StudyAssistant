{
 "cells": [
  {
   "cell_type": "code",
   "id": "initial_id",
   "metadata": {
    "collapsed": true,
    "ExecuteTime": {
     "end_time": "2025-03-02T05:31:59.816327Z",
     "start_time": "2025-03-02T05:31:55.626024Z"
    }
   },
   "source": [
    "import yt_dlp\n",
    "\n",
    "url = \"https://www.tiktok.com/@briantraceyeffect/video/7467303208189299990\"  # Replace with the actual TikTok video URL\n",
    "\n",
    "ydl_opts = {\n",
    "    'outtmpl': '/Volumes/mashenka/important_things.mp4',  # Save the video with this filename\n",
    "}\n",
    "\n",
    "with yt_dlp.YoutubeDL(ydl_opts) as ydl:\n",
    "    ydl.download([url])\n"
   ],
   "outputs": [
    {
     "name": "stdout",
     "output_type": "stream",
     "text": [
      "[TikTok] Extracting URL: https://www.tiktok.com/@briantraceyeffect/video/7467303208189299990\n",
      "[TikTok] 7467303208189299990: Downloading webpage\n",
      "[info] 7467303208189299990: Downloading 1 format(s): bytevc1_1080p_285118-1\n",
      "[download] Destination: /Volumes/mashenka/important_things.mp4\n",
      "[download] 100% of    2.16MiB in 00:00:00 at 2.51MiB/s   \n"
     ]
    }
   ],
   "execution_count": 1
  },
  {
   "metadata": {},
   "cell_type": "code",
   "outputs": [],
   "execution_count": null,
   "source": [
    "#with selenium\n",
    "\n",
    "from selenium import webdriver\n",
    "\n",
    "# Set up the WebDriver\n",
    "driver = webdriver.Chrome()  # Ensure you have the Chrome WebDriver installed\n",
    "\n",
    "# Open the TikTok video page\n",
    "video_url = \"https://www.tiktok.com/@username/video/1234567890\"\n",
    "driver.get(video_url)\n",
    "\n",
    "# Find the video element\n",
    "video_element = driver.find_element(\"tag name\", \"video\")\n",
    "video_src = video_element.get_attribute(\"src\")  # Get the direct video URL\n",
    "\n",
    "# Download the video using requests\n",
    "import requests\n",
    "\n",
    "video_data = requests.get(video_src)\n",
    "with open(\"tiktok_downloaded.mp4\", \"wb\") as f:\n",
    "    f.write(video_data.content)\n",
    "\n",
    "print(\"Video downloaded successfully.\")\n",
    "driver.quit()\n"
   ],
   "id": "672d808afd9aa7e3"
  }
 ],
 "metadata": {
  "kernelspec": {
   "display_name": "Python 3",
   "language": "python",
   "name": "python3"
  },
  "language_info": {
   "codemirror_mode": {
    "name": "ipython",
    "version": 2
   },
   "file_extension": ".py",
   "mimetype": "text/x-python",
   "name": "python",
   "nbconvert_exporter": "python",
   "pygments_lexer": "ipython2",
   "version": "2.7.6"
  }
 },
 "nbformat": 4,
 "nbformat_minor": 5
}
